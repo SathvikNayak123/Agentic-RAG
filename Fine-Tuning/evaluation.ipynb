{
  "cells": [
    {
      "cell_type": "code",
      "execution_count": 6,
      "metadata": {
        "id": "Lb5zwVzJdqq8"
      },
      "outputs": [
        {
          "name": "stderr",
          "output_type": "stream",
          "text": [
            "c:\\Users\\sathv\\anaconda3\\envs\\myragenv\\lib\\site-packages\\tqdm\\auto.py:21: TqdmWarning: IProgress not found. Please update jupyter and ipywidgets. See https://ipywidgets.readthedocs.io/en/stable/user_install.html\n",
            "  from .autonotebook import tqdm as notebook_tqdm\n"
          ]
        }
      ],
      "source": [
        "from langchain_ollama import OllamaLLM\n",
        "import evaluate\n",
        "from datasets import load_dataset"
      ]
    },
    {
      "cell_type": "code",
      "execution_count": 7,
      "metadata": {
        "id": "eJSdNofheAva"
      },
      "outputs": [],
      "source": [
        "llm = OllamaLLM(model=\"hf.co/sathvik123/llama3-ChatDoc\")"
      ]
    },
    {
      "cell_type": "code",
      "execution_count": 8,
      "metadata": {
        "colab": {
          "base_uri": "https://localhost:8080/",
          "height": 109
        },
        "id": "1CDrv49GeBrW",
        "outputId": "4c959a09-869a-4ce4-c552-544edf2d0ce7"
      },
      "outputs": [
        {
          "data": {
            "text/plain": [
              "\"Vitamin D-dependent rickets is a type of inherited disorder that affects bone development. It can be treated in several ways, including:\\n\\n1. Vitamin D supplements: Patients with vitamin D-dependent rickets may need to take large doses of vitamin D supplements throughout their lives.\\n2. Calcitriol supplements: Calcitriol is the active form of vitamin D that the body uses to regulate calcium levels. Taking calcitriol can help to correct calcium imbalances and improve bone mineralization.\\n3. Vitamin D analogs: Some patients with vitamin D-dependent rickets may benefit from taking vitamin D analogs, such as paricalcitol, which are more selective for vitamin D receptors in the bones.\\n4. Bisphosphonates: These medications can help to reduce calcium excretion and improve bone mineralization.\\n5. Hormone therapy: Some patients with vitamin D-dependent rickets may also require hormone therapy, including thyroid hormone replacement if they have concurrent hypothyroidism.\\n6. Parathyroid surgery: In some cases, the parathyroid glands may need to be surgically removed in order to prevent excessive calcium production and further exacerbate the disorder.\\n\\nIn addition to these treatments, patients with vitamin D-dependent rickets should also follow a healthy diet that is rich in calcium and vitamin D. This can help to promote bone health and reduce the risk of complications from this condition.\\n\\nIt's important for patients with vitamin D-dependent rickets to work closely with their healthcare providers in order to manage their condition effectively. This may involve regular check-ups, laboratory testing, and adjustments to treatment as needed based on test results and clinical response.\""
            ]
          },
          "execution_count": 8,
          "metadata": {},
          "output_type": "execute_result"
        }
      ],
      "source": [
        "llm.invoke(\"What are the treatments for vitamin D-dependent rickets?\")"
      ]
    },
    {
      "cell_type": "code",
      "execution_count": 22,
      "metadata": {
        "id": "WegCUZ-0eOnw"
      },
      "outputs": [],
      "source": [
        "def generate_predictions(llm, dataset, prompt_template):\n",
        "    predictions = []\n",
        "    references = []\n",
        "\n",
        "    for row in dataset[\"input\"]:\n",
        "        input = prompt_template.format(row)\n",
        "        response = llm.invoke(input)\n",
        "        predictions.append(response.strip())\n",
        "\n",
        "    for row in dataset[\"output\"]:\n",
        "        references.append(row.strip())\n",
        "\n",
        "    return predictions, references"
      ]
    },
    {
      "cell_type": "code",
      "execution_count": 10,
      "metadata": {
        "id": "pjuhPXO6ePen"
      },
      "outputs": [],
      "source": [
        "def compute_scores(predictions, references):\n",
        "    rouge_metric = evaluate.load(\"rouge\")\n",
        "    #bleu_metric = evaluate.load(\"bleu\")\n",
        "    meteor_metric = evaluate.load(\"meteor\")\n",
        "\n",
        "    rouge_score = rouge_metric.compute(predictions=predictions, references=references)\n",
        "    #bleu_score = bleu_metric.compute(predictions=predictions, references=references)\n",
        "    meteor_score = meteor_metric.compute(predictions=predictions, references=references)\n",
        "\n",
        "    return {\n",
        "        \"ROUGE\": rouge_score,\n",
        "        \"METEOR\": meteor_score\n",
        "    }"
      ]
    },
    {
      "cell_type": "code",
      "execution_count": 20,
      "metadata": {
        "id": "w-xdH0_seSwR"
      },
      "outputs": [],
      "source": [
        "my_prompt = \"\"\"\n",
        "<|start_header_id|>system<|end_header_id|>If you are a doctor, please answer the medical questions based on the patient's description.<|eot_id|><|start_header_id|>user<|end_header_id|> This is the question: {}<|eot_id|>\n",
        "\"\"\""
      ]
    },
    {
      "cell_type": "code",
      "execution_count": 12,
      "metadata": {
        "id": "SIx1iBb9ewtt"
      },
      "outputs": [],
      "source": [
        "data = load_dataset(\"sathvik123/llama3-medical-dataset\", split = \"test\")"
      ]
    },
    {
      "cell_type": "code",
      "execution_count": 25,
      "metadata": {
        "id": "9H9Rc5TUeUUv"
      },
      "outputs": [],
      "source": [
        "# Generate predictions\n",
        "predictions, references = generate_predictions(llm, data[:100], my_prompt)"
      ]
    },
    {
      "cell_type": "code",
      "execution_count": 26,
      "metadata": {},
      "outputs": [
        {
          "name": "stderr",
          "output_type": "stream",
          "text": [
            "[nltk_data] Downloading package wordnet to\n",
            "[nltk_data]     C:\\Users\\sathv\\AppData\\Roaming\\nltk_data...\n",
            "[nltk_data]   Package wordnet is already up-to-date!\n",
            "[nltk_data] Downloading package punkt_tab to\n",
            "[nltk_data]     C:\\Users\\sathv\\AppData\\Roaming\\nltk_data...\n",
            "[nltk_data]   Package punkt_tab is already up-to-date!\n",
            "[nltk_data] Downloading package omw-1.4 to\n",
            "[nltk_data]     C:\\Users\\sathv\\AppData\\Roaming\\nltk_data...\n",
            "[nltk_data]   Package omw-1.4 is already up-to-date!\n"
          ]
        },
        {
          "data": {
            "text/plain": [
              "{'ROUGE': {'rouge1': 0.2928535355420423,\n",
              "  'rouge2': 0.03969550563416629,\n",
              "  'rougeL': 0.14719890945601122,\n",
              "  'rougeLsum': 0.1497006169422635},\n",
              " 'METEOR': {'meteor': 0.2438378550734367}}"
            ]
          },
          "execution_count": 26,
          "metadata": {},
          "output_type": "execute_result"
        }
      ],
      "source": [
        "compute_scores(predictions, references)"
      ]
    }
  ],
  "metadata": {
    "accelerator": "GPU",
    "colab": {
      "gpuType": "T4",
      "provenance": []
    },
    "kernelspec": {
      "display_name": "Python 3",
      "name": "python3"
    },
    "language_info": {
      "codemirror_mode": {
        "name": "ipython",
        "version": 3
      },
      "file_extension": ".py",
      "mimetype": "text/x-python",
      "name": "python",
      "nbconvert_exporter": "python",
      "pygments_lexer": "ipython3",
      "version": "3.10.16"
    }
  },
  "nbformat": 4,
  "nbformat_minor": 0
}
